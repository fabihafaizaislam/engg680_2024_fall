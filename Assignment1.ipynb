{
  "cells": [
    {
      "cell_type": "markdown",
      "metadata": {
        "id": "view-in-github",
        "colab_type": "text"
      },
      "source": [
        "<a href=\"https://colab.research.google.com/github/fabihafaizaislam/engg680_2024_fall/blob/main/Assignment1.ipynb\" target=\"_parent\"><img src=\"https://colab.research.google.com/assets/colab-badge.svg\" alt=\"Open In Colab\"/></a>"
      ]
    },
    {
      "cell_type": "markdown",
      "id": "HWXrzcz_y4W4",
      "metadata": {
        "id": "HWXrzcz_y4W4"
      },
      "source": [
        "# **ENGG680 - Introduction to Digital Engineering**\n",
        "## *Lab Assignment 1: Using Git and Python for Collaborative Coding in Google Colab*"
      ]
    },
    {
      "cell_type": "markdown",
      "id": "4fab98ae-2ed4-4d63-92bf-1de5dbb19934",
      "metadata": {
        "id": "4fab98ae-2ed4-4d63-92bf-1de5dbb19934"
      },
      "source": [
        "## Preliminary: Certificate of Work\n",
        "### (5 Marks)"
      ]
    },
    {
      "cell_type": "markdown",
      "id": "8f496d8e-869b-4d21-aa88-60d8ae45ba61",
      "metadata": {
        "id": "8f496d8e-869b-4d21-aa88-60d8ae45ba61"
      },
      "source": [
        "*We, the undersigned, certify that this is our own work, which has been done expressly for this course, either without the assistance of any other party or where appropriate we have acknowledged the work of others. Further, we have read and understood the section in the university calendar on plagiarism/cheating/other academic misconduct and we are aware of the implications thereof. We request that the total mark for this assignment be distributed as follows among group members:*"
      ]
    },
    {
      "cell_type": "markdown",
      "id": "5d9b6a22-cf19-4a2b-8b01-8a2a2a0f1f1f",
      "metadata": {
        "id": "5d9b6a22-cf19-4a2b-8b01-8a2a2a0f1f1f"
      },
      "source": [
        "|          | First Name | Last Name | Signature (Full Name, Date) | Hours | Contribution % |\n",
        "|----------|------------|-----------|-----------------------------|-------|----------------|\n",
        "| Member 1: | Soroush | Soleymani | SS | Hours | 25% |\n",
        "| Member 2: | Aparna | Das | AP | Hours | 25% |\n",
        "| Member 3: | Samra | Pierre | SP | Hours | 25% |\n",
        "| Member 4: | Fabiha| Islam | FI | Hours | 25% |\n"
      ]
    },
    {
      "cell_type": "markdown",
      "id": "f1aa1475-009f-4697-b37a-e46286e2b792",
      "metadata": {
        "id": "f1aa1475-009f-4697-b37a-e46286e2b792"
      },
      "source": [
        "## Part 1: Printing to the Console\n",
        "### (6 Marks)"
      ]
    },
    {
      "cell_type": "code",
      "execution_count": null,
      "id": "78e4aa0e-2a7d-44cc-9f8b-b3593c1e8176",
      "metadata": {
        "id": "78e4aa0e-2a7d-44cc-9f8b-b3593c1e8176",
        "outputId": "9d2db50c-304d-48c8-a499-5d11d2755a58",
        "colab": {
          "base_uri": "https://localhost:8080/"
        }
      },
      "outputs": [
        {
          "output_type": "stream",
          "name": "stdout",
          "text": [
            "Hello, World! Welcome to the Student Gradebook Management System.\n"
          ]
        }
      ],
      "source": [
        "# In the space below, please print \"Hello, World! Welcome to the Student Gradebook Management System.\"\n",
        "# (1 mark)\n",
        "print (\"Hello, World! Welcome to the Student Gradebook Management System.\")"
      ]
    },
    {
      "cell_type": "code",
      "execution_count": null,
      "id": "l3Venmnzsq2m",
      "metadata": {
        "id": "l3Venmnzsq2m",
        "outputId": "d6c26a90-4149-41d0-d2d5-86dfc72ed7b8",
        "colab": {
          "base_uri": "https://localhost:8080/"
        }
      },
      "outputs": [
        {
          "output_type": "stream",
          "name": "stdout",
          "text": [
            "This is implemented by Group 14, for ENGG680 Fall of 2024\n"
          ]
        }
      ],
      "source": [
        "# Fill in your information using the defined variables below:\n",
        "# (1 mark)\n",
        "lab_group_number = 14\n",
        "intake_year = 2024\n",
        "intake_semester = \"Fall\" #\"Fall\" or \"Winter\"\n",
        "\n",
        "# Using f-strings and the variables above, print \"This is implemented by Group <lab_group_number>, for ENGG680 <intake_semester> of <intake_year>\"\n",
        "# (2 marks)\n",
        "print (f\"This is implemented by Group {lab_group_number}, for ENGG680 {intake_semester} of {intake_year}\")"
      ]
    },
    {
      "cell_type": "code",
      "execution_count": null,
      "id": "mTPZ16XEtnHV",
      "metadata": {
        "id": "mTPZ16XEtnHV",
        "outputId": "40fdfcfa-1a49-4299-b5b7-d84e0be15c1e",
        "colab": {
          "base_uri": "https://localhost:8080/"
        }
      },
      "outputs": [
        {
          "output_type": "stream",
          "name": "stdout",
          "text": [
            "The subjects involved in this grading system is English and Math.\n"
          ]
        }
      ],
      "source": [
        "# Use indexing to print \"The subjects involved in this grading system is English and Math.\" using \"subjects\" below.\n",
        "# (2 marks)\n",
        "subjects = (\"English\", \"Math\")\n",
        "print (f\"The subjects involved in this grading system is {subjects[0]} and {subjects[1]}.\")"
      ]
    },
    {
      "cell_type": "markdown",
      "id": "b45a5575-8e77-4bba-8311-69f997affc35",
      "metadata": {
        "id": "b45a5575-8e77-4bba-8311-69f997affc35"
      },
      "source": [
        "## Part 2: Using Pandas for Data Management and Analytics\n",
        "### (20 marks)"
      ]
    },
    {
      "cell_type": "code",
      "execution_count": null,
      "id": "6dbaa42e-22e3-4aa6-9bd3-dd9ede274c17",
      "metadata": {
        "id": "6dbaa42e-22e3-4aa6-9bd3-dd9ede274c17"
      },
      "outputs": [],
      "source": [
        "# In the space below, please import the Pandas library\n",
        "# (1 mark)\n",
        "import pandas as pd"
      ]
    },
    {
      "cell_type": "code",
      "execution_count": null,
      "id": "cce8e74f-bba1-4bf4-baaf-13e23cdf4afc",
      "metadata": {
        "id": "cce8e74f-bba1-4bf4-baaf-13e23cdf4afc"
      },
      "outputs": [],
      "source": [
        "# Load the student grade CSV files into DataFrames using the defined variables\n",
        "# (2 marks)\n",
        "df_english = pd.read_csv('studentGrades_English.csv')\n",
        "df_math = pd.read_csv('studentGrades_Math.csv')"
      ]
    },
    {
      "cell_type": "code",
      "execution_count": null,
      "id": "8fb240f4-6358-4f61-ab12-f0134c0144a8",
      "metadata": {
        "id": "8fb240f4-6358-4f61-ab12-f0134c0144a8"
      },
      "outputs": [],
      "source": [
        "# Merging the DataFrames on 'studentID'\n",
        "df_studentGrades = pd.merge(df_english, df_math, on='studentID', suffixes=('_English', '_Math'))"
      ]
    },
    {
      "cell_type": "code",
      "execution_count": null,
      "id": "a9e571ef-d61b-4594-a181-503dca3fe49b",
      "metadata": {
        "id": "a9e571ef-d61b-4594-a181-503dca3fe49b"
      },
      "outputs": [],
      "source": [
        "# Take a look at the data contained in the csv files. Why is studentID chosen as the key?\n",
        "# (1 mark)\n",
        "# In order to have Grades as Values for the keys(Student ID)"
      ]
    },
    {
      "cell_type": "code",
      "execution_count": null,
      "id": "e23aaa90-fb4c-43f9-a3fc-1ae850bf65ab",
      "metadata": {
        "id": "e23aaa90-fb4c-43f9-a3fc-1ae850bf65ab",
        "outputId": "6ea107f2-cbba-4f39-aebe-ee26031249a5",
        "colab": {
          "base_uri": "https://localhost:8080/"
        }
      },
      "outputs": [
        {
          "output_type": "stream",
          "name": "stdout",
          "text": [
            "  firstName_English lastName_English  studentID  grade_English firstName_Math  \\\n",
            "0              Emma            Smith      10959             95           Emma   \n",
            "1            Sophia         Robinson      75175             88         Sophia   \n",
            "2              Emma           Taylor      42257             87           Emma   \n",
            "3             David         Robinson      55148             86          David   \n",
            "4           Stephen            Curry      30303             90        Stephen   \n",
            "\n",
            "  lastName_Math  grade_Math   GPA  \n",
            "0         Smith          90  92.5  \n",
            "1      Robinson          95  91.5  \n",
            "2        Taylor          85  86.0  \n",
            "3      Robinson          87  86.5  \n",
            "4         Curry          88  89.0  \n"
          ]
        }
      ],
      "source": [
        "# Let's calculate the average GPA across the two classes for each student\n",
        "df_studentGrades['GPA'] = df_studentGrades[['grade_English', 'grade_Math']].mean(axis=1)\n",
        "\n",
        "# Now let's check the data! In the space below, please use the .head method to display the dataframe.\n",
        "# (1 mark)\n",
        "studentGrades_head = df_studentGrades.head()\n",
        "print(studentGrades_head)"
      ]
    },
    {
      "cell_type": "code",
      "execution_count": null,
      "id": "9f28f907-7e7d-4be4-87b8-db03fef69dfa",
      "metadata": {
        "id": "9f28f907-7e7d-4be4-87b8-db03fef69dfa"
      },
      "outputs": [],
      "source": [
        "# Do you notice a problem? The rows for first name and last name have been duplicated!\n",
        "# .drop(columns=['<column_name1>','<column_name2>'] is a Pandas method that can be used to drop columns.\n",
        "# In the space below, drop the first name and last name associated with the math .csv file.\n",
        "# (2 mark)\n",
        "df_studentGrades = studentGrades_head.drop(columns=['firstName_Math', 'lastName_Math'])"
      ]
    },
    {
      "cell_type": "code",
      "execution_count": null,
      "id": "b58186b4-b60e-455a-990e-b24169964f98",
      "metadata": {
        "id": "b58186b4-b60e-455a-990e-b24169964f98",
        "outputId": "8d9ae683-c882-4018-a8ff-32998735b5b4",
        "colab": {
          "base_uri": "https://localhost:8080/"
        }
      },
      "outputs": [
        {
          "output_type": "stream",
          "name": "stdout",
          "text": [
            "  firstName_English lastName_English  studentID  grade_English  grade_Math  \\\n",
            "0              Emma            Smith      10959             95          90   \n",
            "1            Sophia         Robinson      75175             88          95   \n",
            "2              Emma           Taylor      42257             87          85   \n",
            "3             David         Robinson      55148             86          87   \n",
            "4           Stephen            Curry      30303             90          88   \n",
            "\n",
            "    GPA  \n",
            "0  92.5  \n",
            "1  91.5  \n",
            "2  86.0  \n",
            "3  86.5  \n",
            "4  89.0  \n"
          ]
        }
      ],
      "source": [
        "# Let's display the data again. Use an appropriate method (hint: already used before)\n",
        "# (1 mark)\n",
        "print(df_studentGrades.head())"
      ]
    },
    {
      "cell_type": "code",
      "execution_count": null,
      "id": "f0476460-6156-49ee-bc84-0878207e2dfa",
      "metadata": {
        "id": "f0476460-6156-49ee-bc84-0878207e2dfa"
      },
      "outputs": [],
      "source": [
        "# Let's also rename the first and last names appropriately.\n",
        "# Complete the code in the space below by replacing \"<>\" with the proper column name\n",
        "# (1 mark)\n",
        "\n",
        "df_studentGrades = df_studentGrades.rename(columns={\n",
        "    'firstName_English': 'firstName',\n",
        "    'lastName_English': 'lastName',\n",
        "    'grade_English': 'englishGrade',\n",
        "    'grade_Math': 'mathGrade'\n",
        "    })"
      ]
    },
    {
      "cell_type": "code",
      "execution_count": null,
      "id": "5c2b26e6-3c03-4950-b56d-5d00cf9361c4",
      "metadata": {
        "id": "5c2b26e6-3c03-4950-b56d-5d00cf9361c4",
        "outputId": "fbf58337-48d4-4f23-fcaf-09f7e1a7789c",
        "colab": {
          "base_uri": "https://localhost:8080/"
        }
      },
      "outputs": [
        {
          "output_type": "stream",
          "name": "stdout",
          "text": [
            "          studentID  englishGrade  mathGrade        GPA\n",
            "count      5.000000      5.000000   5.000000   5.000000\n",
            "mean   42768.400000     89.200000  89.000000  89.100000\n",
            "std    24346.087341      3.563706   3.807887   2.902585\n",
            "min    10959.000000     86.000000  85.000000  86.000000\n",
            "25%    30303.000000     87.000000  87.000000  86.500000\n",
            "50%    42257.000000     88.000000  88.000000  89.000000\n",
            "75%    55148.000000     90.000000  90.000000  91.500000\n",
            "max    75175.000000     95.000000  95.000000  92.500000\n"
          ]
        }
      ],
      "source": [
        "# Now let's find out some statistics about our student grades!\n",
        "# Please use an appropriate Pandas method in the space below to display statistical values like\n",
        "# mean, standard deviation, min, max, and others.\n",
        "# (1 mark)\n",
        "stats_summary = df_studentGrades.describe()\n",
        "print(stats_summary)"
      ]
    },
    {
      "cell_type": "code",
      "execution_count": null,
      "id": "22589631-5517-4b64-937e-61a53ade15fa",
      "metadata": {
        "id": "22589631-5517-4b64-937e-61a53ade15fa"
      },
      "outputs": [],
      "source": [
        "# Do you notice a problem?\n",
        "# Some statistics are not relevant. The average of studentIDs have no meaning in reality!\n",
        "# Let's typecast each column appropriately so as to only get meaningful statistics.\n",
        "# In the code below, replace '<>' by choosing between 'str' for string or 'float' for float\n",
        "# to properly typecast each column.\n",
        "# (3 marks)\n",
        "df_studentGrades['studentID'] = df_studentGrades['studentID'].astype(float)\n",
        "df_studentGrades['firstName'] = df_studentGrades['firstName'].astype(str)\n",
        "df_studentGrades['lastName'] = df_studentGrades['lastName'].astype(str)\n",
        "df_studentGrades['englishGrade'] = df_studentGrades['englishGrade'].astype(float)\n",
        "df_studentGrades['mathGrade'] = df_studentGrades['mathGrade'].astype(float)\n",
        "df_studentGrades['GPA'] = df_studentGrades['GPA'].astype(float)"
      ]
    },
    {
      "cell_type": "code",
      "execution_count": null,
      "id": "6ab40afb-2787-45ab-a62b-e832fdee699d",
      "metadata": {
        "id": "6ab40afb-2787-45ab-a62b-e832fdee699d",
        "outputId": "6138cf29-61be-40b1-92cc-1e6d4aedf09c",
        "colab": {
          "base_uri": "https://localhost:8080/",
          "height": 300
        }
      },
      "outputs": [
        {
          "output_type": "execute_result",
          "data": {
            "text/plain": [
              "          studentID  englishGrade  mathGrade        GPA\n",
              "count      5.000000      5.000000   5.000000   5.000000\n",
              "mean   42768.400000     89.200000  89.000000  89.100000\n",
              "std    24346.087341      3.563706   3.807887   2.902585\n",
              "min    10959.000000     86.000000  85.000000  86.000000\n",
              "25%    30303.000000     87.000000  87.000000  86.500000\n",
              "50%    42257.000000     88.000000  88.000000  89.000000\n",
              "75%    55148.000000     90.000000  90.000000  91.500000\n",
              "max    75175.000000     95.000000  95.000000  92.500000"
            ],
            "text/html": [
              "\n",
              "  <div id=\"df-b9d81e3d-0a71-4bc5-964c-384245267757\" class=\"colab-df-container\">\n",
              "    <div>\n",
              "<style scoped>\n",
              "    .dataframe tbody tr th:only-of-type {\n",
              "        vertical-align: middle;\n",
              "    }\n",
              "\n",
              "    .dataframe tbody tr th {\n",
              "        vertical-align: top;\n",
              "    }\n",
              "\n",
              "    .dataframe thead th {\n",
              "        text-align: right;\n",
              "    }\n",
              "</style>\n",
              "<table border=\"1\" class=\"dataframe\">\n",
              "  <thead>\n",
              "    <tr style=\"text-align: right;\">\n",
              "      <th></th>\n",
              "      <th>studentID</th>\n",
              "      <th>englishGrade</th>\n",
              "      <th>mathGrade</th>\n",
              "      <th>GPA</th>\n",
              "    </tr>\n",
              "  </thead>\n",
              "  <tbody>\n",
              "    <tr>\n",
              "      <th>count</th>\n",
              "      <td>5.000000</td>\n",
              "      <td>5.000000</td>\n",
              "      <td>5.000000</td>\n",
              "      <td>5.000000</td>\n",
              "    </tr>\n",
              "    <tr>\n",
              "      <th>mean</th>\n",
              "      <td>42768.400000</td>\n",
              "      <td>89.200000</td>\n",
              "      <td>89.000000</td>\n",
              "      <td>89.100000</td>\n",
              "    </tr>\n",
              "    <tr>\n",
              "      <th>std</th>\n",
              "      <td>24346.087341</td>\n",
              "      <td>3.563706</td>\n",
              "      <td>3.807887</td>\n",
              "      <td>2.902585</td>\n",
              "    </tr>\n",
              "    <tr>\n",
              "      <th>min</th>\n",
              "      <td>10959.000000</td>\n",
              "      <td>86.000000</td>\n",
              "      <td>85.000000</td>\n",
              "      <td>86.000000</td>\n",
              "    </tr>\n",
              "    <tr>\n",
              "      <th>25%</th>\n",
              "      <td>30303.000000</td>\n",
              "      <td>87.000000</td>\n",
              "      <td>87.000000</td>\n",
              "      <td>86.500000</td>\n",
              "    </tr>\n",
              "    <tr>\n",
              "      <th>50%</th>\n",
              "      <td>42257.000000</td>\n",
              "      <td>88.000000</td>\n",
              "      <td>88.000000</td>\n",
              "      <td>89.000000</td>\n",
              "    </tr>\n",
              "    <tr>\n",
              "      <th>75%</th>\n",
              "      <td>55148.000000</td>\n",
              "      <td>90.000000</td>\n",
              "      <td>90.000000</td>\n",
              "      <td>91.500000</td>\n",
              "    </tr>\n",
              "    <tr>\n",
              "      <th>max</th>\n",
              "      <td>75175.000000</td>\n",
              "      <td>95.000000</td>\n",
              "      <td>95.000000</td>\n",
              "      <td>92.500000</td>\n",
              "    </tr>\n",
              "  </tbody>\n",
              "</table>\n",
              "</div>\n",
              "    <div class=\"colab-df-buttons\">\n",
              "\n",
              "  <div class=\"colab-df-container\">\n",
              "    <button class=\"colab-df-convert\" onclick=\"convertToInteractive('df-b9d81e3d-0a71-4bc5-964c-384245267757')\"\n",
              "            title=\"Convert this dataframe to an interactive table.\"\n",
              "            style=\"display:none;\">\n",
              "\n",
              "  <svg xmlns=\"http://www.w3.org/2000/svg\" height=\"24px\" viewBox=\"0 -960 960 960\">\n",
              "    <path d=\"M120-120v-720h720v720H120Zm60-500h600v-160H180v160Zm220 220h160v-160H400v160Zm0 220h160v-160H400v160ZM180-400h160v-160H180v160Zm440 0h160v-160H620v160ZM180-180h160v-160H180v160Zm440 0h160v-160H620v160Z\"/>\n",
              "  </svg>\n",
              "    </button>\n",
              "\n",
              "  <style>\n",
              "    .colab-df-container {\n",
              "      display:flex;\n",
              "      gap: 12px;\n",
              "    }\n",
              "\n",
              "    .colab-df-convert {\n",
              "      background-color: #E8F0FE;\n",
              "      border: none;\n",
              "      border-radius: 50%;\n",
              "      cursor: pointer;\n",
              "      display: none;\n",
              "      fill: #1967D2;\n",
              "      height: 32px;\n",
              "      padding: 0 0 0 0;\n",
              "      width: 32px;\n",
              "    }\n",
              "\n",
              "    .colab-df-convert:hover {\n",
              "      background-color: #E2EBFA;\n",
              "      box-shadow: 0px 1px 2px rgba(60, 64, 67, 0.3), 0px 1px 3px 1px rgba(60, 64, 67, 0.15);\n",
              "      fill: #174EA6;\n",
              "    }\n",
              "\n",
              "    .colab-df-buttons div {\n",
              "      margin-bottom: 4px;\n",
              "    }\n",
              "\n",
              "    [theme=dark] .colab-df-convert {\n",
              "      background-color: #3B4455;\n",
              "      fill: #D2E3FC;\n",
              "    }\n",
              "\n",
              "    [theme=dark] .colab-df-convert:hover {\n",
              "      background-color: #434B5C;\n",
              "      box-shadow: 0px 1px 3px 1px rgba(0, 0, 0, 0.15);\n",
              "      filter: drop-shadow(0px 1px 2px rgba(0, 0, 0, 0.3));\n",
              "      fill: #FFFFFF;\n",
              "    }\n",
              "  </style>\n",
              "\n",
              "    <script>\n",
              "      const buttonEl =\n",
              "        document.querySelector('#df-b9d81e3d-0a71-4bc5-964c-384245267757 button.colab-df-convert');\n",
              "      buttonEl.style.display =\n",
              "        google.colab.kernel.accessAllowed ? 'block' : 'none';\n",
              "\n",
              "      async function convertToInteractive(key) {\n",
              "        const element = document.querySelector('#df-b9d81e3d-0a71-4bc5-964c-384245267757');\n",
              "        const dataTable =\n",
              "          await google.colab.kernel.invokeFunction('convertToInteractive',\n",
              "                                                    [key], {});\n",
              "        if (!dataTable) return;\n",
              "\n",
              "        const docLinkHtml = 'Like what you see? Visit the ' +\n",
              "          '<a target=\"_blank\" href=https://colab.research.google.com/notebooks/data_table.ipynb>data table notebook</a>'\n",
              "          + ' to learn more about interactive tables.';\n",
              "        element.innerHTML = '';\n",
              "        dataTable['output_type'] = 'display_data';\n",
              "        await google.colab.output.renderOutput(dataTable, element);\n",
              "        const docLink = document.createElement('div');\n",
              "        docLink.innerHTML = docLinkHtml;\n",
              "        element.appendChild(docLink);\n",
              "      }\n",
              "    </script>\n",
              "  </div>\n",
              "\n",
              "\n",
              "<div id=\"df-722cf724-4805-47dd-b8c8-acfcd620a220\">\n",
              "  <button class=\"colab-df-quickchart\" onclick=\"quickchart('df-722cf724-4805-47dd-b8c8-acfcd620a220')\"\n",
              "            title=\"Suggest charts\"\n",
              "            style=\"display:none;\">\n",
              "\n",
              "<svg xmlns=\"http://www.w3.org/2000/svg\" height=\"24px\"viewBox=\"0 0 24 24\"\n",
              "     width=\"24px\">\n",
              "    <g>\n",
              "        <path d=\"M19 3H5c-1.1 0-2 .9-2 2v14c0 1.1.9 2 2 2h14c1.1 0 2-.9 2-2V5c0-1.1-.9-2-2-2zM9 17H7v-7h2v7zm4 0h-2V7h2v10zm4 0h-2v-4h2v4z\"/>\n",
              "    </g>\n",
              "</svg>\n",
              "  </button>\n",
              "\n",
              "<style>\n",
              "  .colab-df-quickchart {\n",
              "      --bg-color: #E8F0FE;\n",
              "      --fill-color: #1967D2;\n",
              "      --hover-bg-color: #E2EBFA;\n",
              "      --hover-fill-color: #174EA6;\n",
              "      --disabled-fill-color: #AAA;\n",
              "      --disabled-bg-color: #DDD;\n",
              "  }\n",
              "\n",
              "  [theme=dark] .colab-df-quickchart {\n",
              "      --bg-color: #3B4455;\n",
              "      --fill-color: #D2E3FC;\n",
              "      --hover-bg-color: #434B5C;\n",
              "      --hover-fill-color: #FFFFFF;\n",
              "      --disabled-bg-color: #3B4455;\n",
              "      --disabled-fill-color: #666;\n",
              "  }\n",
              "\n",
              "  .colab-df-quickchart {\n",
              "    background-color: var(--bg-color);\n",
              "    border: none;\n",
              "    border-radius: 50%;\n",
              "    cursor: pointer;\n",
              "    display: none;\n",
              "    fill: var(--fill-color);\n",
              "    height: 32px;\n",
              "    padding: 0;\n",
              "    width: 32px;\n",
              "  }\n",
              "\n",
              "  .colab-df-quickchart:hover {\n",
              "    background-color: var(--hover-bg-color);\n",
              "    box-shadow: 0 1px 2px rgba(60, 64, 67, 0.3), 0 1px 3px 1px rgba(60, 64, 67, 0.15);\n",
              "    fill: var(--button-hover-fill-color);\n",
              "  }\n",
              "\n",
              "  .colab-df-quickchart-complete:disabled,\n",
              "  .colab-df-quickchart-complete:disabled:hover {\n",
              "    background-color: var(--disabled-bg-color);\n",
              "    fill: var(--disabled-fill-color);\n",
              "    box-shadow: none;\n",
              "  }\n",
              "\n",
              "  .colab-df-spinner {\n",
              "    border: 2px solid var(--fill-color);\n",
              "    border-color: transparent;\n",
              "    border-bottom-color: var(--fill-color);\n",
              "    animation:\n",
              "      spin 1s steps(1) infinite;\n",
              "  }\n",
              "\n",
              "  @keyframes spin {\n",
              "    0% {\n",
              "      border-color: transparent;\n",
              "      border-bottom-color: var(--fill-color);\n",
              "      border-left-color: var(--fill-color);\n",
              "    }\n",
              "    20% {\n",
              "      border-color: transparent;\n",
              "      border-left-color: var(--fill-color);\n",
              "      border-top-color: var(--fill-color);\n",
              "    }\n",
              "    30% {\n",
              "      border-color: transparent;\n",
              "      border-left-color: var(--fill-color);\n",
              "      border-top-color: var(--fill-color);\n",
              "      border-right-color: var(--fill-color);\n",
              "    }\n",
              "    40% {\n",
              "      border-color: transparent;\n",
              "      border-right-color: var(--fill-color);\n",
              "      border-top-color: var(--fill-color);\n",
              "    }\n",
              "    60% {\n",
              "      border-color: transparent;\n",
              "      border-right-color: var(--fill-color);\n",
              "    }\n",
              "    80% {\n",
              "      border-color: transparent;\n",
              "      border-right-color: var(--fill-color);\n",
              "      border-bottom-color: var(--fill-color);\n",
              "    }\n",
              "    90% {\n",
              "      border-color: transparent;\n",
              "      border-bottom-color: var(--fill-color);\n",
              "    }\n",
              "  }\n",
              "</style>\n",
              "\n",
              "  <script>\n",
              "    async function quickchart(key) {\n",
              "      const quickchartButtonEl =\n",
              "        document.querySelector('#' + key + ' button');\n",
              "      quickchartButtonEl.disabled = true;  // To prevent multiple clicks.\n",
              "      quickchartButtonEl.classList.add('colab-df-spinner');\n",
              "      try {\n",
              "        const charts = await google.colab.kernel.invokeFunction(\n",
              "            'suggestCharts', [key], {});\n",
              "      } catch (error) {\n",
              "        console.error('Error during call to suggestCharts:', error);\n",
              "      }\n",
              "      quickchartButtonEl.classList.remove('colab-df-spinner');\n",
              "      quickchartButtonEl.classList.add('colab-df-quickchart-complete');\n",
              "    }\n",
              "    (() => {\n",
              "      let quickchartButtonEl =\n",
              "        document.querySelector('#df-722cf724-4805-47dd-b8c8-acfcd620a220 button');\n",
              "      quickchartButtonEl.style.display =\n",
              "        google.colab.kernel.accessAllowed ? 'block' : 'none';\n",
              "    })();\n",
              "  </script>\n",
              "</div>\n",
              "\n",
              "    </div>\n",
              "  </div>\n"
            ],
            "application/vnd.google.colaboratory.intrinsic+json": {
              "type": "dataframe",
              "summary": "{\n  \"name\": \"df_studentGrades\",\n  \"rows\": 8,\n  \"fields\": [\n    {\n      \"column\": \"studentID\",\n      \"properties\": {\n        \"dtype\": \"number\",\n        \"std\": 24115.95923649536,\n        \"min\": 5.0,\n        \"max\": 75175.0,\n        \"num_unique_values\": 8,\n        \"samples\": [\n          42768.4,\n          42257.0,\n          5.0\n        ],\n        \"semantic_type\": \"\",\n        \"description\": \"\"\n      }\n    },\n    {\n      \"column\": \"englishGrade\",\n      \"properties\": {\n        \"dtype\": \"number\",\n        \"std\": 39.40353322321424,\n        \"min\": 3.563705936241092,\n        \"max\": 95.0,\n        \"num_unique_values\": 8,\n        \"samples\": [\n          89.2,\n          88.0,\n          5.0\n        ],\n        \"semantic_type\": \"\",\n        \"description\": \"\"\n      }\n    },\n    {\n      \"column\": \"mathGrade\",\n      \"properties\": {\n        \"dtype\": \"number\",\n        \"std\": 39.26730698866137,\n        \"min\": 3.8078865529319543,\n        \"max\": 95.0,\n        \"num_unique_values\": 8,\n        \"samples\": [\n          89.0,\n          88.0,\n          5.0\n        ],\n        \"semantic_type\": \"\",\n        \"description\": \"\"\n      }\n    },\n    {\n      \"column\": \"GPA\",\n      \"properties\": {\n        \"dtype\": \"number\",\n        \"std\": 39.48119471183279,\n        \"min\": 2.9025850547399985,\n        \"max\": 92.5,\n        \"num_unique_values\": 8,\n        \"samples\": [\n          89.1,\n          89.0,\n          5.0\n        ],\n        \"semantic_type\": \"\",\n        \"description\": \"\"\n      }\n    }\n  ]\n}"
            }
          },
          "metadata": {},
          "execution_count": 16
        }
      ],
      "source": [
        "# Now let's see our statistics!\n",
        "df_studentGrades.describe()"
      ]
    },
    {
      "cell_type": "code",
      "execution_count": null,
      "id": "8wd6ggXcaszZ",
      "metadata": {
        "id": "8wd6ggXcaszZ",
        "outputId": "0864ffc8-dd16-4164-e7a8-741f3ccf2e17",
        "colab": {
          "base_uri": "https://localhost:8080/"
        }
      },
      "outputs": [
        {
          "output_type": "stream",
          "name": "stdout",
          "text": [
            "  firstName  lastName  studentID  englishGrade  mathGrade   GPA\n",
            "0      Emma     Smith    10959.0          95.0       90.0  92.5\n",
            "1    Sophia  Robinson    75175.0          88.0       95.0  91.5\n",
            "4   Stephen     Curry    30303.0          90.0       88.0  89.0\n",
            "3     David  Robinson    55148.0          86.0       87.0  86.5\n",
            "2      Emma    Taylor    42257.0          87.0       85.0  86.0\n"
          ]
        }
      ],
      "source": [
        "# Now sort the merged dataframe so that it is in descending order based on GPA, and print it\n",
        "# (1 mark)\n",
        "df_studentsGPASorted = df_studentGrades.sort_values(by='GPA', ascending=False)\n",
        "print(df_studentsGPASorted)"
      ]
    },
    {
      "cell_type": "code",
      "execution_count": null,
      "id": "Y7Kjr1Jqbv_R",
      "metadata": {
        "id": "Y7Kjr1Jqbv_R"
      },
      "outputs": [],
      "source": [
        "# If we wanted to access the student with the highest gpa based on df_studentsGPASorted,\n",
        "# does .iloc or .loc make more sense and why?\n",
        "# (2 marks)\n",
        "# .iloc makes more sense because we are accessing the first row by its position after sorting.\n",
        "# If we were accessing a row based on a specific value or label (like a student's name or ID), then .loc would be more appropriate."
      ]
    },
    {
      "cell_type": "code",
      "execution_count": null,
      "id": "6pQN2HYDeMrm",
      "metadata": {
        "id": "6pQN2HYDeMrm"
      },
      "outputs": [],
      "source": [
        "# Now using the method you specified, assign the variable below to the row containing the student with the highest GPA\n",
        "# (1 mark)\n",
        "top_student = df_studentsGPASorted.iloc[0]"
      ]
    },
    {
      "cell_type": "code",
      "execution_count": null,
      "id": "C-oIXOOwdpx2",
      "metadata": {
        "id": "C-oIXOOwdpx2",
        "outputId": "dcbec16f-3218-44eb-ede7-2115d6669a84",
        "colab": {
          "base_uri": "https://localhost:8080/"
        }
      },
      "outputs": [
        {
          "output_type": "stream",
          "name": "stdout",
          "text": [
            "The student with the highest GPA is Emma Smith with a GPA of 92.5\n"
          ]
        }
      ],
      "source": [
        "# Now print the student first name and last name with the highest GPA in this format:\n",
        "# \"The student with the highest GPA is <firstName> <lastName> with a GPA of <GPA>\"\n",
        "# (1 mark)\n",
        "print(f\"The student with the highest GPA is {top_student['firstName']} {top_student['lastName']} with a GPA of {top_student['GPA']}\")"
      ]
    },
    {
      "cell_type": "code",
      "execution_count": null,
      "id": "4-U4nZbRee4x",
      "metadata": {
        "id": "4-U4nZbRee4x",
        "outputId": "9beac4c3-3018-4a70-8d10-b0f708ee780d",
        "colab": {
          "base_uri": "https://localhost:8080/"
        }
      },
      "outputs": [
        {
          "output_type": "stream",
          "name": "stdout",
          "text": [
            "  firstName  lastName  studentID  englishGrade  mathGrade   GPA\n",
            "1    Sophia  Robinson    75175.0          88.0       95.0  91.5\n"
          ]
        }
      ],
      "source": [
        "# We can use logical expressions to filter and print data. For example, let's print the students with math grades higher than 90:\n",
        "df_mathGrade_over90 = df_studentsGPASorted[df_studentsGPASorted['mathGrade'] > 90]\n",
        "print(df_mathGrade_over90)"
      ]
    },
    {
      "cell_type": "code",
      "execution_count": null,
      "id": "lTp6vfG2fVQM",
      "metadata": {
        "id": "lTp6vfG2fVQM",
        "outputId": "79ac7294-7edd-4c98-b022-a1b1dc4942c0",
        "colab": {
          "base_uri": "https://localhost:8080/"
        }
      },
      "outputs": [
        {
          "output_type": "stream",
          "name": "stdout",
          "text": [
            "Empty DataFrame\n",
            "Columns: [firstName, lastName, studentID, englishGrade, mathGrade, GPA]\n",
            "Index: []\n"
          ]
        }
      ],
      "source": [
        "# Now print the students whos GPA are lower than 85\n",
        "# (2 marks)\n",
        "df_GPA_under85 = df_studentsGPASorted[df_studentsGPASorted['GPA'] < 85]\n",
        "print(df_GPA_under85)"
      ]
    },
    {
      "cell_type": "markdown",
      "id": "7zMefl3LSqQs",
      "metadata": {
        "id": "7zMefl3LSqQs"
      },
      "source": [
        "## Part 3: More Data Analytics using Pandas\n",
        "### (20 marks)"
      ]
    },
    {
      "cell_type": "code",
      "execution_count": null,
      "id": "F_W0PBCdSxg9",
      "metadata": {
        "id": "F_W0PBCdSxg9",
        "outputId": "8b29ba87-c031-47d2-dfaf-86c5d7c1e1fd",
        "colab": {
          "base_uri": "https://localhost:8080/"
        }
      },
      "outputs": [
        {
          "output_type": "stream",
          "name": "stdout",
          "text": [
            "0     95\n",
            "1     88\n",
            "2     87\n",
            "3     86\n",
            "4     90\n",
            "5     88\n",
            "6     84\n",
            "7     76\n",
            "8     80\n",
            "9     82\n",
            "10    92\n",
            "11    91\n",
            "12    98\n",
            "13    80\n",
            "Name: grade, dtype: int64\n"
          ]
        }
      ],
      "source": [
        "# Select the column 'grade' from the original English grade dataset and print it\n",
        "# (1 mark)\n",
        "df_englishGrade = df_english['grade']\n",
        "print(df_englishGrade)"
      ]
    },
    {
      "cell_type": "code",
      "execution_count": null,
      "id": "d_Mo59OuT0IV",
      "metadata": {
        "id": "d_Mo59OuT0IV",
        "outputId": "8caf701b-1902-4dd9-f9f5-67bd54955687",
        "colab": {
          "base_uri": "https://localhost:8080/"
        }
      },
      "outputs": [
        {
          "output_type": "stream",
          "name": "stdout",
          "text": [
            "0    92.5\n",
            "1    91.5\n",
            "2    86.0\n",
            "3    86.5\n",
            "4    89.0\n",
            "Name: GPA, dtype: float64\n"
          ]
        }
      ],
      "source": [
        "# Select the column 'GPA' from the df_studentGrades and print it\n",
        "# (1 mark)\n",
        "df_GPA = df_studentGrades['GPA']\n",
        "print(df_GPA)"
      ]
    },
    {
      "cell_type": "code",
      "execution_count": null,
      "id": "EdHYR2hYVbef",
      "metadata": {
        "id": "EdHYR2hYVbef",
        "outputId": "7a2ea103-85e9-4778-ffd5-71f99c2f503e",
        "colab": {
          "base_uri": "https://localhost:8080/"
        }
      },
      "outputs": [
        {
          "output_type": "stream",
          "name": "stdout",
          "text": [
            "int64\n",
            "float64\n"
          ]
        }
      ],
      "source": [
        "# What is the data type of grade from the English grade dataset?\n",
        "# (0.5 mark)\n",
        "print(df_englishGrade.dtype)\n",
        "\n",
        "# What is the data type of GPA from the merged dataset?\n",
        "# (0.5 mark)\n",
        "print(df_GPA.dtype)\n",
        "\n",
        "# Is it different? Why?\n",
        "# Yes, English Grades are in integer format and GPAs are in float format\n"
      ]
    },
    {
      "cell_type": "code",
      "execution_count": null,
      "id": "chmwegDeV6Dr",
      "metadata": {
        "id": "chmwegDeV6Dr"
      },
      "outputs": [],
      "source": [
        "# Load the student homeroom CSV file into a DataFrame using the following variable name\n",
        "# (1 mark)\n",
        "df_homeroom = pd.read_csv('studentHomerooms.csv')"
      ]
    },
    {
      "cell_type": "code",
      "execution_count": null,
      "id": "7ISGewvrXI7u",
      "metadata": {
        "id": "7ISGewvrXI7u",
        "outputId": "0ba69c42-4998-42a2-ec0c-104cd326e4ca",
        "colab": {
          "base_uri": "https://localhost:8080/",
          "height": 206
        }
      },
      "outputs": [
        {
          "output_type": "execute_result",
          "data": {
            "text/plain": [
              "   studentID  homeRoom firstName_y lastName_y  englishGrade  mathGrade   GPA\n",
              "0      10959       313        Emma      Smith          95.0       90.0  92.5\n",
              "1      75175       311      Sophia   Robinson          88.0       95.0  91.5\n",
              "2      42257       311        Emma     Taylor          87.0       85.0  86.0\n",
              "3      55148       313       David   Robinson          86.0       87.0  86.5\n",
              "4      30303       313     Stephen      Curry          90.0       88.0  89.0"
            ],
            "text/html": [
              "\n",
              "  <div id=\"df-c10cff0b-a8be-4034-861a-b0111293f537\" class=\"colab-df-container\">\n",
              "    <div>\n",
              "<style scoped>\n",
              "    .dataframe tbody tr th:only-of-type {\n",
              "        vertical-align: middle;\n",
              "    }\n",
              "\n",
              "    .dataframe tbody tr th {\n",
              "        vertical-align: top;\n",
              "    }\n",
              "\n",
              "    .dataframe thead th {\n",
              "        text-align: right;\n",
              "    }\n",
              "</style>\n",
              "<table border=\"1\" class=\"dataframe\">\n",
              "  <thead>\n",
              "    <tr style=\"text-align: right;\">\n",
              "      <th></th>\n",
              "      <th>studentID</th>\n",
              "      <th>homeRoom</th>\n",
              "      <th>firstName_y</th>\n",
              "      <th>lastName_y</th>\n",
              "      <th>englishGrade</th>\n",
              "      <th>mathGrade</th>\n",
              "      <th>GPA</th>\n",
              "    </tr>\n",
              "  </thead>\n",
              "  <tbody>\n",
              "    <tr>\n",
              "      <th>0</th>\n",
              "      <td>10959</td>\n",
              "      <td>313</td>\n",
              "      <td>Emma</td>\n",
              "      <td>Smith</td>\n",
              "      <td>95.0</td>\n",
              "      <td>90.0</td>\n",
              "      <td>92.5</td>\n",
              "    </tr>\n",
              "    <tr>\n",
              "      <th>1</th>\n",
              "      <td>75175</td>\n",
              "      <td>311</td>\n",
              "      <td>Sophia</td>\n",
              "      <td>Robinson</td>\n",
              "      <td>88.0</td>\n",
              "      <td>95.0</td>\n",
              "      <td>91.5</td>\n",
              "    </tr>\n",
              "    <tr>\n",
              "      <th>2</th>\n",
              "      <td>42257</td>\n",
              "      <td>311</td>\n",
              "      <td>Emma</td>\n",
              "      <td>Taylor</td>\n",
              "      <td>87.0</td>\n",
              "      <td>85.0</td>\n",
              "      <td>86.0</td>\n",
              "    </tr>\n",
              "    <tr>\n",
              "      <th>3</th>\n",
              "      <td>55148</td>\n",
              "      <td>313</td>\n",
              "      <td>David</td>\n",
              "      <td>Robinson</td>\n",
              "      <td>86.0</td>\n",
              "      <td>87.0</td>\n",
              "      <td>86.5</td>\n",
              "    </tr>\n",
              "    <tr>\n",
              "      <th>4</th>\n",
              "      <td>30303</td>\n",
              "      <td>313</td>\n",
              "      <td>Stephen</td>\n",
              "      <td>Curry</td>\n",
              "      <td>90.0</td>\n",
              "      <td>88.0</td>\n",
              "      <td>89.0</td>\n",
              "    </tr>\n",
              "  </tbody>\n",
              "</table>\n",
              "</div>\n",
              "    <div class=\"colab-df-buttons\">\n",
              "\n",
              "  <div class=\"colab-df-container\">\n",
              "    <button class=\"colab-df-convert\" onclick=\"convertToInteractive('df-c10cff0b-a8be-4034-861a-b0111293f537')\"\n",
              "            title=\"Convert this dataframe to an interactive table.\"\n",
              "            style=\"display:none;\">\n",
              "\n",
              "  <svg xmlns=\"http://www.w3.org/2000/svg\" height=\"24px\" viewBox=\"0 -960 960 960\">\n",
              "    <path d=\"M120-120v-720h720v720H120Zm60-500h600v-160H180v160Zm220 220h160v-160H400v160Zm0 220h160v-160H400v160ZM180-400h160v-160H180v160Zm440 0h160v-160H620v160ZM180-180h160v-160H180v160Zm440 0h160v-160H620v160Z\"/>\n",
              "  </svg>\n",
              "    </button>\n",
              "\n",
              "  <style>\n",
              "    .colab-df-container {\n",
              "      display:flex;\n",
              "      gap: 12px;\n",
              "    }\n",
              "\n",
              "    .colab-df-convert {\n",
              "      background-color: #E8F0FE;\n",
              "      border: none;\n",
              "      border-radius: 50%;\n",
              "      cursor: pointer;\n",
              "      display: none;\n",
              "      fill: #1967D2;\n",
              "      height: 32px;\n",
              "      padding: 0 0 0 0;\n",
              "      width: 32px;\n",
              "    }\n",
              "\n",
              "    .colab-df-convert:hover {\n",
              "      background-color: #E2EBFA;\n",
              "      box-shadow: 0px 1px 2px rgba(60, 64, 67, 0.3), 0px 1px 3px 1px rgba(60, 64, 67, 0.15);\n",
              "      fill: #174EA6;\n",
              "    }\n",
              "\n",
              "    .colab-df-buttons div {\n",
              "      margin-bottom: 4px;\n",
              "    }\n",
              "\n",
              "    [theme=dark] .colab-df-convert {\n",
              "      background-color: #3B4455;\n",
              "      fill: #D2E3FC;\n",
              "    }\n",
              "\n",
              "    [theme=dark] .colab-df-convert:hover {\n",
              "      background-color: #434B5C;\n",
              "      box-shadow: 0px 1px 3px 1px rgba(0, 0, 0, 0.15);\n",
              "      filter: drop-shadow(0px 1px 2px rgba(0, 0, 0, 0.3));\n",
              "      fill: #FFFFFF;\n",
              "    }\n",
              "  </style>\n",
              "\n",
              "    <script>\n",
              "      const buttonEl =\n",
              "        document.querySelector('#df-c10cff0b-a8be-4034-861a-b0111293f537 button.colab-df-convert');\n",
              "      buttonEl.style.display =\n",
              "        google.colab.kernel.accessAllowed ? 'block' : 'none';\n",
              "\n",
              "      async function convertToInteractive(key) {\n",
              "        const element = document.querySelector('#df-c10cff0b-a8be-4034-861a-b0111293f537');\n",
              "        const dataTable =\n",
              "          await google.colab.kernel.invokeFunction('convertToInteractive',\n",
              "                                                    [key], {});\n",
              "        if (!dataTable) return;\n",
              "\n",
              "        const docLinkHtml = 'Like what you see? Visit the ' +\n",
              "          '<a target=\"_blank\" href=https://colab.research.google.com/notebooks/data_table.ipynb>data table notebook</a>'\n",
              "          + ' to learn more about interactive tables.';\n",
              "        element.innerHTML = '';\n",
              "        dataTable['output_type'] = 'display_data';\n",
              "        await google.colab.output.renderOutput(dataTable, element);\n",
              "        const docLink = document.createElement('div');\n",
              "        docLink.innerHTML = docLinkHtml;\n",
              "        element.appendChild(docLink);\n",
              "      }\n",
              "    </script>\n",
              "  </div>\n",
              "\n",
              "\n",
              "<div id=\"df-7f0efd62-a738-4c3c-8ee8-bf1aa59663e3\">\n",
              "  <button class=\"colab-df-quickchart\" onclick=\"quickchart('df-7f0efd62-a738-4c3c-8ee8-bf1aa59663e3')\"\n",
              "            title=\"Suggest charts\"\n",
              "            style=\"display:none;\">\n",
              "\n",
              "<svg xmlns=\"http://www.w3.org/2000/svg\" height=\"24px\"viewBox=\"0 0 24 24\"\n",
              "     width=\"24px\">\n",
              "    <g>\n",
              "        <path d=\"M19 3H5c-1.1 0-2 .9-2 2v14c0 1.1.9 2 2 2h14c1.1 0 2-.9 2-2V5c0-1.1-.9-2-2-2zM9 17H7v-7h2v7zm4 0h-2V7h2v10zm4 0h-2v-4h2v4z\"/>\n",
              "    </g>\n",
              "</svg>\n",
              "  </button>\n",
              "\n",
              "<style>\n",
              "  .colab-df-quickchart {\n",
              "      --bg-color: #E8F0FE;\n",
              "      --fill-color: #1967D2;\n",
              "      --hover-bg-color: #E2EBFA;\n",
              "      --hover-fill-color: #174EA6;\n",
              "      --disabled-fill-color: #AAA;\n",
              "      --disabled-bg-color: #DDD;\n",
              "  }\n",
              "\n",
              "  [theme=dark] .colab-df-quickchart {\n",
              "      --bg-color: #3B4455;\n",
              "      --fill-color: #D2E3FC;\n",
              "      --hover-bg-color: #434B5C;\n",
              "      --hover-fill-color: #FFFFFF;\n",
              "      --disabled-bg-color: #3B4455;\n",
              "      --disabled-fill-color: #666;\n",
              "  }\n",
              "\n",
              "  .colab-df-quickchart {\n",
              "    background-color: var(--bg-color);\n",
              "    border: none;\n",
              "    border-radius: 50%;\n",
              "    cursor: pointer;\n",
              "    display: none;\n",
              "    fill: var(--fill-color);\n",
              "    height: 32px;\n",
              "    padding: 0;\n",
              "    width: 32px;\n",
              "  }\n",
              "\n",
              "  .colab-df-quickchart:hover {\n",
              "    background-color: var(--hover-bg-color);\n",
              "    box-shadow: 0 1px 2px rgba(60, 64, 67, 0.3), 0 1px 3px 1px rgba(60, 64, 67, 0.15);\n",
              "    fill: var(--button-hover-fill-color);\n",
              "  }\n",
              "\n",
              "  .colab-df-quickchart-complete:disabled,\n",
              "  .colab-df-quickchart-complete:disabled:hover {\n",
              "    background-color: var(--disabled-bg-color);\n",
              "    fill: var(--disabled-fill-color);\n",
              "    box-shadow: none;\n",
              "  }\n",
              "\n",
              "  .colab-df-spinner {\n",
              "    border: 2px solid var(--fill-color);\n",
              "    border-color: transparent;\n",
              "    border-bottom-color: var(--fill-color);\n",
              "    animation:\n",
              "      spin 1s steps(1) infinite;\n",
              "  }\n",
              "\n",
              "  @keyframes spin {\n",
              "    0% {\n",
              "      border-color: transparent;\n",
              "      border-bottom-color: var(--fill-color);\n",
              "      border-left-color: var(--fill-color);\n",
              "    }\n",
              "    20% {\n",
              "      border-color: transparent;\n",
              "      border-left-color: var(--fill-color);\n",
              "      border-top-color: var(--fill-color);\n",
              "    }\n",
              "    30% {\n",
              "      border-color: transparent;\n",
              "      border-left-color: var(--fill-color);\n",
              "      border-top-color: var(--fill-color);\n",
              "      border-right-color: var(--fill-color);\n",
              "    }\n",
              "    40% {\n",
              "      border-color: transparent;\n",
              "      border-right-color: var(--fill-color);\n",
              "      border-top-color: var(--fill-color);\n",
              "    }\n",
              "    60% {\n",
              "      border-color: transparent;\n",
              "      border-right-color: var(--fill-color);\n",
              "    }\n",
              "    80% {\n",
              "      border-color: transparent;\n",
              "      border-right-color: var(--fill-color);\n",
              "      border-bottom-color: var(--fill-color);\n",
              "    }\n",
              "    90% {\n",
              "      border-color: transparent;\n",
              "      border-bottom-color: var(--fill-color);\n",
              "    }\n",
              "  }\n",
              "</style>\n",
              "\n",
              "  <script>\n",
              "    async function quickchart(key) {\n",
              "      const quickchartButtonEl =\n",
              "        document.querySelector('#' + key + ' button');\n",
              "      quickchartButtonEl.disabled = true;  // To prevent multiple clicks.\n",
              "      quickchartButtonEl.classList.add('colab-df-spinner');\n",
              "      try {\n",
              "        const charts = await google.colab.kernel.invokeFunction(\n",
              "            'suggestCharts', [key], {});\n",
              "      } catch (error) {\n",
              "        console.error('Error during call to suggestCharts:', error);\n",
              "      }\n",
              "      quickchartButtonEl.classList.remove('colab-df-spinner');\n",
              "      quickchartButtonEl.classList.add('colab-df-quickchart-complete');\n",
              "    }\n",
              "    (() => {\n",
              "      let quickchartButtonEl =\n",
              "        document.querySelector('#df-7f0efd62-a738-4c3c-8ee8-bf1aa59663e3 button');\n",
              "      quickchartButtonEl.style.display =\n",
              "        google.colab.kernel.accessAllowed ? 'block' : 'none';\n",
              "    })();\n",
              "  </script>\n",
              "</div>\n",
              "\n",
              "    </div>\n",
              "  </div>\n"
            ],
            "application/vnd.google.colaboratory.intrinsic+json": {
              "type": "dataframe",
              "variable_name": "df_studentInfo",
              "summary": "{\n  \"name\": \"df_studentInfo\",\n  \"rows\": 5,\n  \"fields\": [\n    {\n      \"column\": \"studentID\",\n      \"properties\": {\n        \"dtype\": \"number\",\n        \"std\": 24346,\n        \"min\": 10959,\n        \"max\": 75175,\n        \"num_unique_values\": 5,\n        \"samples\": [\n          75175,\n          30303,\n          42257\n        ],\n        \"semantic_type\": \"\",\n        \"description\": \"\"\n      }\n    },\n    {\n      \"column\": \"homeRoom\",\n      \"properties\": {\n        \"dtype\": \"number\",\n        \"std\": 1,\n        \"min\": 311,\n        \"max\": 313,\n        \"num_unique_values\": 2,\n        \"samples\": [\n          311,\n          313\n        ],\n        \"semantic_type\": \"\",\n        \"description\": \"\"\n      }\n    },\n    {\n      \"column\": \"firstName_y\",\n      \"properties\": {\n        \"dtype\": \"string\",\n        \"num_unique_values\": 4,\n        \"samples\": [\n          \"Sophia\",\n          \"Stephen\"\n        ],\n        \"semantic_type\": \"\",\n        \"description\": \"\"\n      }\n    },\n    {\n      \"column\": \"lastName_y\",\n      \"properties\": {\n        \"dtype\": \"string\",\n        \"num_unique_values\": 4,\n        \"samples\": [\n          \"Robinson\",\n          \"Curry\"\n        ],\n        \"semantic_type\": \"\",\n        \"description\": \"\"\n      }\n    },\n    {\n      \"column\": \"englishGrade\",\n      \"properties\": {\n        \"dtype\": \"number\",\n        \"std\": 3.563705936241092,\n        \"min\": 86.0,\n        \"max\": 95.0,\n        \"num_unique_values\": 5,\n        \"samples\": [\n          88.0,\n          90.0\n        ],\n        \"semantic_type\": \"\",\n        \"description\": \"\"\n      }\n    },\n    {\n      \"column\": \"mathGrade\",\n      \"properties\": {\n        \"dtype\": \"number\",\n        \"std\": 3.8078865529319543,\n        \"min\": 85.0,\n        \"max\": 95.0,\n        \"num_unique_values\": 5,\n        \"samples\": [\n          95.0,\n          88.0\n        ],\n        \"semantic_type\": \"\",\n        \"description\": \"\"\n      }\n    },\n    {\n      \"column\": \"GPA\",\n      \"properties\": {\n        \"dtype\": \"number\",\n        \"std\": 2.9025850547399985,\n        \"min\": 86.0,\n        \"max\": 92.5,\n        \"num_unique_values\": 5,\n        \"samples\": [\n          91.5,\n          89.0\n        ],\n        \"semantic_type\": \"\",\n        \"description\": \"\"\n      }\n    }\n  ]\n}"
            }
          },
          "metadata": {},
          "execution_count": 27
        }
      ],
      "source": [
        "# Merge the studentHomerooms with the merged dataset. Make sure that the key you are joining on are the same typecast for both datasets.\n",
        "# Also ensure that there are no redundant columns, and finally display the first few rows.\n",
        "# Hint: try joining on more than one column to avoid having to drop redundant columns, ie. on=['studentID', '<ColumnA>', '<ColumnB>'] ...\n",
        "# (5 marks)\n",
        "df_studentInfo = pd.merge(df_homeroom, df_studentGrades, on='studentID')\n",
        "df_studentInfo = df_studentInfo.drop(columns=['firstName_x', 'lastName_x'])\n",
        "df_studentInfo.head()"
      ]
    },
    {
      "cell_type": "code",
      "execution_count": null,
      "id": "aZIl5LCWZ2cL",
      "metadata": {
        "id": "aZIl5LCWZ2cL"
      },
      "outputs": [],
      "source": [
        "# The code below calculates the mean of each homeroom class.\n",
        "df_grouped = df_studentInfo.groupby('homeRoom')['GPA'].mean()\n",
        "\n",
        "# Which homeroom has a higher GPA?\n",
        "# (1 mark)\n",
        "# 313"
      ]
    },
    {
      "cell_type": "code",
      "execution_count": null,
      "id": "I1EtLRpVkCJt",
      "metadata": {
        "id": "I1EtLRpVkCJt",
        "colab": {
          "base_uri": "https://localhost:8080/"
        },
        "outputId": "a9f4f7df-10e2-428a-bdae-828493652967"
      },
      "outputs": [
        {
          "output_type": "stream",
          "name": "stdout",
          "text": [
            "   studentID  homeRoom firstName_y lastName_y  englishGrade  mathGrade   GPA\n",
            "1      75175       311      Sophia   Robinson          88.0       95.0  91.5\n",
            "2      42257       311        Emma     Taylor          87.0       85.0  86.0\n",
            "0      10959       313        Emma      Smith          95.0       90.0  92.5\n",
            "4      30303       313     Stephen      Curry          90.0       88.0  89.0\n",
            "3      55148       313       David   Robinson          86.0       87.0  86.5\n"
          ]
        }
      ],
      "source": [
        "# Now let's work with multiple sorts. The .sort_values() method can sort by multiple columns, meaning you can specify a primary column and a secondary column for sorting.\n",
        "# For example, by=['ColumnA', 'ColumnB'] will first sort by ColumnA and then by ColumnB.\n",
        "# Create and print a DataFrame, df_studentsGPASorted_homeroom, which is sorted by homeRoom and then by GPA, both in descending order.\n",
        "# (3 mark)\n",
        "df_studentsGPASorted_homeroom = df_studentInfo.sort_values(by=['homeRoom', 'GPA'], ascending=[True, False])\n",
        "print(df_studentsGPASorted_homeroom)"
      ]
    },
    {
      "cell_type": "code",
      "execution_count": null,
      "id": "7XWCjnSCox1a",
      "metadata": {
        "id": "7XWCjnSCox1a",
        "colab": {
          "base_uri": "https://localhost:8080/",
          "height": 206
        },
        "outputId": "a1f47afd-8405-457f-9926-c58481bb315d"
      },
      "outputs": [
        {
          "output_type": "execute_result",
          "data": {
            "text/plain": [
              "   studentID  homeRoom firstName_y lastName_y  englishGrade  mathGrade   GPA\n",
              "0      75175       311      Sophia   Robinson          88.0       95.0  91.5\n",
              "1      42257       311        Emma     Taylor          87.0       85.0  86.0\n",
              "2      10959       313        Emma      Smith          95.0       90.0  92.5\n",
              "3      30303       313     Stephen      Curry          90.0       88.0  89.0\n",
              "4      55148       313       David   Robinson          86.0       87.0  86.5"
            ],
            "text/html": [
              "\n",
              "  <div id=\"df-4dd8ceed-9db1-429b-ae74-03932e391e9e\" class=\"colab-df-container\">\n",
              "    <div>\n",
              "<style scoped>\n",
              "    .dataframe tbody tr th:only-of-type {\n",
              "        vertical-align: middle;\n",
              "    }\n",
              "\n",
              "    .dataframe tbody tr th {\n",
              "        vertical-align: top;\n",
              "    }\n",
              "\n",
              "    .dataframe thead th {\n",
              "        text-align: right;\n",
              "    }\n",
              "</style>\n",
              "<table border=\"1\" class=\"dataframe\">\n",
              "  <thead>\n",
              "    <tr style=\"text-align: right;\">\n",
              "      <th></th>\n",
              "      <th>studentID</th>\n",
              "      <th>homeRoom</th>\n",
              "      <th>firstName_y</th>\n",
              "      <th>lastName_y</th>\n",
              "      <th>englishGrade</th>\n",
              "      <th>mathGrade</th>\n",
              "      <th>GPA</th>\n",
              "    </tr>\n",
              "  </thead>\n",
              "  <tbody>\n",
              "    <tr>\n",
              "      <th>0</th>\n",
              "      <td>75175</td>\n",
              "      <td>311</td>\n",
              "      <td>Sophia</td>\n",
              "      <td>Robinson</td>\n",
              "      <td>88.0</td>\n",
              "      <td>95.0</td>\n",
              "      <td>91.5</td>\n",
              "    </tr>\n",
              "    <tr>\n",
              "      <th>1</th>\n",
              "      <td>42257</td>\n",
              "      <td>311</td>\n",
              "      <td>Emma</td>\n",
              "      <td>Taylor</td>\n",
              "      <td>87.0</td>\n",
              "      <td>85.0</td>\n",
              "      <td>86.0</td>\n",
              "    </tr>\n",
              "    <tr>\n",
              "      <th>2</th>\n",
              "      <td>10959</td>\n",
              "      <td>313</td>\n",
              "      <td>Emma</td>\n",
              "      <td>Smith</td>\n",
              "      <td>95.0</td>\n",
              "      <td>90.0</td>\n",
              "      <td>92.5</td>\n",
              "    </tr>\n",
              "    <tr>\n",
              "      <th>3</th>\n",
              "      <td>30303</td>\n",
              "      <td>313</td>\n",
              "      <td>Stephen</td>\n",
              "      <td>Curry</td>\n",
              "      <td>90.0</td>\n",
              "      <td>88.0</td>\n",
              "      <td>89.0</td>\n",
              "    </tr>\n",
              "    <tr>\n",
              "      <th>4</th>\n",
              "      <td>55148</td>\n",
              "      <td>313</td>\n",
              "      <td>David</td>\n",
              "      <td>Robinson</td>\n",
              "      <td>86.0</td>\n",
              "      <td>87.0</td>\n",
              "      <td>86.5</td>\n",
              "    </tr>\n",
              "  </tbody>\n",
              "</table>\n",
              "</div>\n",
              "    <div class=\"colab-df-buttons\">\n",
              "\n",
              "  <div class=\"colab-df-container\">\n",
              "    <button class=\"colab-df-convert\" onclick=\"convertToInteractive('df-4dd8ceed-9db1-429b-ae74-03932e391e9e')\"\n",
              "            title=\"Convert this dataframe to an interactive table.\"\n",
              "            style=\"display:none;\">\n",
              "\n",
              "  <svg xmlns=\"http://www.w3.org/2000/svg\" height=\"24px\" viewBox=\"0 -960 960 960\">\n",
              "    <path d=\"M120-120v-720h720v720H120Zm60-500h600v-160H180v160Zm220 220h160v-160H400v160Zm0 220h160v-160H400v160ZM180-400h160v-160H180v160Zm440 0h160v-160H620v160ZM180-180h160v-160H180v160Zm440 0h160v-160H620v160Z\"/>\n",
              "  </svg>\n",
              "    </button>\n",
              "\n",
              "  <style>\n",
              "    .colab-df-container {\n",
              "      display:flex;\n",
              "      gap: 12px;\n",
              "    }\n",
              "\n",
              "    .colab-df-convert {\n",
              "      background-color: #E8F0FE;\n",
              "      border: none;\n",
              "      border-radius: 50%;\n",
              "      cursor: pointer;\n",
              "      display: none;\n",
              "      fill: #1967D2;\n",
              "      height: 32px;\n",
              "      padding: 0 0 0 0;\n",
              "      width: 32px;\n",
              "    }\n",
              "\n",
              "    .colab-df-convert:hover {\n",
              "      background-color: #E2EBFA;\n",
              "      box-shadow: 0px 1px 2px rgba(60, 64, 67, 0.3), 0px 1px 3px 1px rgba(60, 64, 67, 0.15);\n",
              "      fill: #174EA6;\n",
              "    }\n",
              "\n",
              "    .colab-df-buttons div {\n",
              "      margin-bottom: 4px;\n",
              "    }\n",
              "\n",
              "    [theme=dark] .colab-df-convert {\n",
              "      background-color: #3B4455;\n",
              "      fill: #D2E3FC;\n",
              "    }\n",
              "\n",
              "    [theme=dark] .colab-df-convert:hover {\n",
              "      background-color: #434B5C;\n",
              "      box-shadow: 0px 1px 3px 1px rgba(0, 0, 0, 0.15);\n",
              "      filter: drop-shadow(0px 1px 2px rgba(0, 0, 0, 0.3));\n",
              "      fill: #FFFFFF;\n",
              "    }\n",
              "  </style>\n",
              "\n",
              "    <script>\n",
              "      const buttonEl =\n",
              "        document.querySelector('#df-4dd8ceed-9db1-429b-ae74-03932e391e9e button.colab-df-convert');\n",
              "      buttonEl.style.display =\n",
              "        google.colab.kernel.accessAllowed ? 'block' : 'none';\n",
              "\n",
              "      async function convertToInteractive(key) {\n",
              "        const element = document.querySelector('#df-4dd8ceed-9db1-429b-ae74-03932e391e9e');\n",
              "        const dataTable =\n",
              "          await google.colab.kernel.invokeFunction('convertToInteractive',\n",
              "                                                    [key], {});\n",
              "        if (!dataTable) return;\n",
              "\n",
              "        const docLinkHtml = 'Like what you see? Visit the ' +\n",
              "          '<a target=\"_blank\" href=https://colab.research.google.com/notebooks/data_table.ipynb>data table notebook</a>'\n",
              "          + ' to learn more about interactive tables.';\n",
              "        element.innerHTML = '';\n",
              "        dataTable['output_type'] = 'display_data';\n",
              "        await google.colab.output.renderOutput(dataTable, element);\n",
              "        const docLink = document.createElement('div');\n",
              "        docLink.innerHTML = docLinkHtml;\n",
              "        element.appendChild(docLink);\n",
              "      }\n",
              "    </script>\n",
              "  </div>\n",
              "\n",
              "\n",
              "<div id=\"df-cba02d84-14d4-4524-9625-40ca06789e82\">\n",
              "  <button class=\"colab-df-quickchart\" onclick=\"quickchart('df-cba02d84-14d4-4524-9625-40ca06789e82')\"\n",
              "            title=\"Suggest charts\"\n",
              "            style=\"display:none;\">\n",
              "\n",
              "<svg xmlns=\"http://www.w3.org/2000/svg\" height=\"24px\"viewBox=\"0 0 24 24\"\n",
              "     width=\"24px\">\n",
              "    <g>\n",
              "        <path d=\"M19 3H5c-1.1 0-2 .9-2 2v14c0 1.1.9 2 2 2h14c1.1 0 2-.9 2-2V5c0-1.1-.9-2-2-2zM9 17H7v-7h2v7zm4 0h-2V7h2v10zm4 0h-2v-4h2v4z\"/>\n",
              "    </g>\n",
              "</svg>\n",
              "  </button>\n",
              "\n",
              "<style>\n",
              "  .colab-df-quickchart {\n",
              "      --bg-color: #E8F0FE;\n",
              "      --fill-color: #1967D2;\n",
              "      --hover-bg-color: #E2EBFA;\n",
              "      --hover-fill-color: #174EA6;\n",
              "      --disabled-fill-color: #AAA;\n",
              "      --disabled-bg-color: #DDD;\n",
              "  }\n",
              "\n",
              "  [theme=dark] .colab-df-quickchart {\n",
              "      --bg-color: #3B4455;\n",
              "      --fill-color: #D2E3FC;\n",
              "      --hover-bg-color: #434B5C;\n",
              "      --hover-fill-color: #FFFFFF;\n",
              "      --disabled-bg-color: #3B4455;\n",
              "      --disabled-fill-color: #666;\n",
              "  }\n",
              "\n",
              "  .colab-df-quickchart {\n",
              "    background-color: var(--bg-color);\n",
              "    border: none;\n",
              "    border-radius: 50%;\n",
              "    cursor: pointer;\n",
              "    display: none;\n",
              "    fill: var(--fill-color);\n",
              "    height: 32px;\n",
              "    padding: 0;\n",
              "    width: 32px;\n",
              "  }\n",
              "\n",
              "  .colab-df-quickchart:hover {\n",
              "    background-color: var(--hover-bg-color);\n",
              "    box-shadow: 0 1px 2px rgba(60, 64, 67, 0.3), 0 1px 3px 1px rgba(60, 64, 67, 0.15);\n",
              "    fill: var(--button-hover-fill-color);\n",
              "  }\n",
              "\n",
              "  .colab-df-quickchart-complete:disabled,\n",
              "  .colab-df-quickchart-complete:disabled:hover {\n",
              "    background-color: var(--disabled-bg-color);\n",
              "    fill: var(--disabled-fill-color);\n",
              "    box-shadow: none;\n",
              "  }\n",
              "\n",
              "  .colab-df-spinner {\n",
              "    border: 2px solid var(--fill-color);\n",
              "    border-color: transparent;\n",
              "    border-bottom-color: var(--fill-color);\n",
              "    animation:\n",
              "      spin 1s steps(1) infinite;\n",
              "  }\n",
              "\n",
              "  @keyframes spin {\n",
              "    0% {\n",
              "      border-color: transparent;\n",
              "      border-bottom-color: var(--fill-color);\n",
              "      border-left-color: var(--fill-color);\n",
              "    }\n",
              "    20% {\n",
              "      border-color: transparent;\n",
              "      border-left-color: var(--fill-color);\n",
              "      border-top-color: var(--fill-color);\n",
              "    }\n",
              "    30% {\n",
              "      border-color: transparent;\n",
              "      border-left-color: var(--fill-color);\n",
              "      border-top-color: var(--fill-color);\n",
              "      border-right-color: var(--fill-color);\n",
              "    }\n",
              "    40% {\n",
              "      border-color: transparent;\n",
              "      border-right-color: var(--fill-color);\n",
              "      border-top-color: var(--fill-color);\n",
              "    }\n",
              "    60% {\n",
              "      border-color: transparent;\n",
              "      border-right-color: var(--fill-color);\n",
              "    }\n",
              "    80% {\n",
              "      border-color: transparent;\n",
              "      border-right-color: var(--fill-color);\n",
              "      border-bottom-color: var(--fill-color);\n",
              "    }\n",
              "    90% {\n",
              "      border-color: transparent;\n",
              "      border-bottom-color: var(--fill-color);\n",
              "    }\n",
              "  }\n",
              "</style>\n",
              "\n",
              "  <script>\n",
              "    async function quickchart(key) {\n",
              "      const quickchartButtonEl =\n",
              "        document.querySelector('#' + key + ' button');\n",
              "      quickchartButtonEl.disabled = true;  // To prevent multiple clicks.\n",
              "      quickchartButtonEl.classList.add('colab-df-spinner');\n",
              "      try {\n",
              "        const charts = await google.colab.kernel.invokeFunction(\n",
              "            'suggestCharts', [key], {});\n",
              "      } catch (error) {\n",
              "        console.error('Error during call to suggestCharts:', error);\n",
              "      }\n",
              "      quickchartButtonEl.classList.remove('colab-df-spinner');\n",
              "      quickchartButtonEl.classList.add('colab-df-quickchart-complete');\n",
              "    }\n",
              "    (() => {\n",
              "      let quickchartButtonEl =\n",
              "        document.querySelector('#df-cba02d84-14d4-4524-9625-40ca06789e82 button');\n",
              "      quickchartButtonEl.style.display =\n",
              "        google.colab.kernel.accessAllowed ? 'block' : 'none';\n",
              "    })();\n",
              "  </script>\n",
              "</div>\n",
              "\n",
              "    </div>\n",
              "  </div>\n"
            ],
            "application/vnd.google.colaboratory.intrinsic+json": {
              "type": "dataframe",
              "variable_name": "df_studentsGPASorted_homeroom",
              "summary": "{\n  \"name\": \"df_studentsGPASorted_homeroom\",\n  \"rows\": 5,\n  \"fields\": [\n    {\n      \"column\": \"studentID\",\n      \"properties\": {\n        \"dtype\": \"number\",\n        \"std\": 24346,\n        \"min\": 10959,\n        \"max\": 75175,\n        \"num_unique_values\": 5,\n        \"samples\": [\n          42257,\n          55148,\n          10959\n        ],\n        \"semantic_type\": \"\",\n        \"description\": \"\"\n      }\n    },\n    {\n      \"column\": \"homeRoom\",\n      \"properties\": {\n        \"dtype\": \"number\",\n        \"std\": 1,\n        \"min\": 311,\n        \"max\": 313,\n        \"num_unique_values\": 2,\n        \"samples\": [\n          313,\n          311\n        ],\n        \"semantic_type\": \"\",\n        \"description\": \"\"\n      }\n    },\n    {\n      \"column\": \"firstName_y\",\n      \"properties\": {\n        \"dtype\": \"string\",\n        \"num_unique_values\": 4,\n        \"samples\": [\n          \"Emma\",\n          \"David\"\n        ],\n        \"semantic_type\": \"\",\n        \"description\": \"\"\n      }\n    },\n    {\n      \"column\": \"lastName_y\",\n      \"properties\": {\n        \"dtype\": \"string\",\n        \"num_unique_values\": 4,\n        \"samples\": [\n          \"Taylor\",\n          \"Curry\"\n        ],\n        \"semantic_type\": \"\",\n        \"description\": \"\"\n      }\n    },\n    {\n      \"column\": \"englishGrade\",\n      \"properties\": {\n        \"dtype\": \"number\",\n        \"std\": 3.5637059362410923,\n        \"min\": 86.0,\n        \"max\": 95.0,\n        \"num_unique_values\": 5,\n        \"samples\": [\n          87.0,\n          86.0\n        ],\n        \"semantic_type\": \"\",\n        \"description\": \"\"\n      }\n    },\n    {\n      \"column\": \"mathGrade\",\n      \"properties\": {\n        \"dtype\": \"number\",\n        \"std\": 3.8078865529319543,\n        \"min\": 85.0,\n        \"max\": 95.0,\n        \"num_unique_values\": 5,\n        \"samples\": [\n          85.0,\n          87.0\n        ],\n        \"semantic_type\": \"\",\n        \"description\": \"\"\n      }\n    },\n    {\n      \"column\": \"GPA\",\n      \"properties\": {\n        \"dtype\": \"number\",\n        \"std\": 2.9025850547399985,\n        \"min\": 86.0,\n        \"max\": 92.5,\n        \"num_unique_values\": 5,\n        \"samples\": [\n          86.0,\n          86.5\n        ],\n        \"semantic_type\": \"\",\n        \"description\": \"\"\n      }\n    }\n  ]\n}"
            }
          },
          "metadata": {},
          "execution_count": 40
        }
      ],
      "source": [
        "# Do you notice a problem with the indices? They are basically meaningless now that we have sorted by homeroom and GPA.\n",
        "\n",
        "# The code below changes the index of the dataframe so that it is more intuitive.\n",
        "df_studentsGPASorted_homeroom = df_studentsGPASorted_homeroom.reset_index(drop=True)\n",
        "df_studentsGPASorted_homeroom\n",
        "df_studentsGPASorted_homeroom.head()"
      ]
    },
    {
      "cell_type": "code",
      "execution_count": null,
      "id": "CUwJVCXfpsdJ",
      "metadata": {
        "id": "CUwJVCXfpsdJ"
      },
      "outputs": [],
      "source": [
        "# Describe what each coding line in the cell above is doing\n",
        "# (4 marks)\n",
        "# The first line idicates the df_studentsGPASorted_homeroom DataFrame by the homeRoom column and assigns a rank to each student within their homeroom.\n",
        "# The second line creates a new column called newIndex by concatenating the homeRoom and studentRank values, separated by a hyphen. Both values are converted to strings to ensure proper concatenation.\n",
        "# In the third line the DataFrame's index is changed to the newIndex column created in the previous step. This makes it easier to identify students uniquely by their homeroom and rank.\n",
        "# The fourth line removes the studentRank column from the DataFrame since it is no longer needed after creating the newIndex."
      ]
    },
    {
      "cell_type": "code",
      "execution_count": null,
      "id": "t1iojeTVqLWW",
      "metadata": {
        "id": "t1iojeTVqLWW",
        "outputId": "6219d0dd-1f42-4ed9-f615-e47c0f9e58f4",
        "colab": {
          "base_uri": "https://localhost:8080/",
          "height": 112
        }
      },
      "outputs": [
        {
          "output_type": "execute_result",
          "data": {
            "text/plain": [
              "   studentID  homeRoom firstName_y lastName_y  englishGrade  mathGrade   GPA\n",
              "0      75175       311      Sophia   Robinson          88.0       95.0  91.5\n",
              "2      10959       313        Emma      Smith          95.0       90.0  92.5"
            ],
            "text/html": [
              "\n",
              "  <div id=\"df-e8466d25-3cf1-4fb7-bdb9-46e59d9bb23c\" class=\"colab-df-container\">\n",
              "    <div>\n",
              "<style scoped>\n",
              "    .dataframe tbody tr th:only-of-type {\n",
              "        vertical-align: middle;\n",
              "    }\n",
              "\n",
              "    .dataframe tbody tr th {\n",
              "        vertical-align: top;\n",
              "    }\n",
              "\n",
              "    .dataframe thead th {\n",
              "        text-align: right;\n",
              "    }\n",
              "</style>\n",
              "<table border=\"1\" class=\"dataframe\">\n",
              "  <thead>\n",
              "    <tr style=\"text-align: right;\">\n",
              "      <th></th>\n",
              "      <th>studentID</th>\n",
              "      <th>homeRoom</th>\n",
              "      <th>firstName_y</th>\n",
              "      <th>lastName_y</th>\n",
              "      <th>englishGrade</th>\n",
              "      <th>mathGrade</th>\n",
              "      <th>GPA</th>\n",
              "    </tr>\n",
              "  </thead>\n",
              "  <tbody>\n",
              "    <tr>\n",
              "      <th>0</th>\n",
              "      <td>75175</td>\n",
              "      <td>311</td>\n",
              "      <td>Sophia</td>\n",
              "      <td>Robinson</td>\n",
              "      <td>88.0</td>\n",
              "      <td>95.0</td>\n",
              "      <td>91.5</td>\n",
              "    </tr>\n",
              "    <tr>\n",
              "      <th>2</th>\n",
              "      <td>10959</td>\n",
              "      <td>313</td>\n",
              "      <td>Emma</td>\n",
              "      <td>Smith</td>\n",
              "      <td>95.0</td>\n",
              "      <td>90.0</td>\n",
              "      <td>92.5</td>\n",
              "    </tr>\n",
              "  </tbody>\n",
              "</table>\n",
              "</div>\n",
              "    <div class=\"colab-df-buttons\">\n",
              "\n",
              "  <div class=\"colab-df-container\">\n",
              "    <button class=\"colab-df-convert\" onclick=\"convertToInteractive('df-e8466d25-3cf1-4fb7-bdb9-46e59d9bb23c')\"\n",
              "            title=\"Convert this dataframe to an interactive table.\"\n",
              "            style=\"display:none;\">\n",
              "\n",
              "  <svg xmlns=\"http://www.w3.org/2000/svg\" height=\"24px\" viewBox=\"0 -960 960 960\">\n",
              "    <path d=\"M120-120v-720h720v720H120Zm60-500h600v-160H180v160Zm220 220h160v-160H400v160Zm0 220h160v-160H400v160ZM180-400h160v-160H180v160Zm440 0h160v-160H620v160ZM180-180h160v-160H180v160Zm440 0h160v-160H620v160Z\"/>\n",
              "  </svg>\n",
              "    </button>\n",
              "\n",
              "  <style>\n",
              "    .colab-df-container {\n",
              "      display:flex;\n",
              "      gap: 12px;\n",
              "    }\n",
              "\n",
              "    .colab-df-convert {\n",
              "      background-color: #E8F0FE;\n",
              "      border: none;\n",
              "      border-radius: 50%;\n",
              "      cursor: pointer;\n",
              "      display: none;\n",
              "      fill: #1967D2;\n",
              "      height: 32px;\n",
              "      padding: 0 0 0 0;\n",
              "      width: 32px;\n",
              "    }\n",
              "\n",
              "    .colab-df-convert:hover {\n",
              "      background-color: #E2EBFA;\n",
              "      box-shadow: 0px 1px 2px rgba(60, 64, 67, 0.3), 0px 1px 3px 1px rgba(60, 64, 67, 0.15);\n",
              "      fill: #174EA6;\n",
              "    }\n",
              "\n",
              "    .colab-df-buttons div {\n",
              "      margin-bottom: 4px;\n",
              "    }\n",
              "\n",
              "    [theme=dark] .colab-df-convert {\n",
              "      background-color: #3B4455;\n",
              "      fill: #D2E3FC;\n",
              "    }\n",
              "\n",
              "    [theme=dark] .colab-df-convert:hover {\n",
              "      background-color: #434B5C;\n",
              "      box-shadow: 0px 1px 3px 1px rgba(0, 0, 0, 0.15);\n",
              "      filter: drop-shadow(0px 1px 2px rgba(0, 0, 0, 0.3));\n",
              "      fill: #FFFFFF;\n",
              "    }\n",
              "  </style>\n",
              "\n",
              "    <script>\n",
              "      const buttonEl =\n",
              "        document.querySelector('#df-e8466d25-3cf1-4fb7-bdb9-46e59d9bb23c button.colab-df-convert');\n",
              "      buttonEl.style.display =\n",
              "        google.colab.kernel.accessAllowed ? 'block' : 'none';\n",
              "\n",
              "      async function convertToInteractive(key) {\n",
              "        const element = document.querySelector('#df-e8466d25-3cf1-4fb7-bdb9-46e59d9bb23c');\n",
              "        const dataTable =\n",
              "          await google.colab.kernel.invokeFunction('convertToInteractive',\n",
              "                                                    [key], {});\n",
              "        if (!dataTable) return;\n",
              "\n",
              "        const docLinkHtml = 'Like what you see? Visit the ' +\n",
              "          '<a target=\"_blank\" href=https://colab.research.google.com/notebooks/data_table.ipynb>data table notebook</a>'\n",
              "          + ' to learn more about interactive tables.';\n",
              "        element.innerHTML = '';\n",
              "        dataTable['output_type'] = 'display_data';\n",
              "        await google.colab.output.renderOutput(dataTable, element);\n",
              "        const docLink = document.createElement('div');\n",
              "        docLink.innerHTML = docLinkHtml;\n",
              "        element.appendChild(docLink);\n",
              "      }\n",
              "    </script>\n",
              "  </div>\n",
              "\n",
              "\n",
              "<div id=\"df-9ac05a34-81f8-4319-a70b-f6b24f806034\">\n",
              "  <button class=\"colab-df-quickchart\" onclick=\"quickchart('df-9ac05a34-81f8-4319-a70b-f6b24f806034')\"\n",
              "            title=\"Suggest charts\"\n",
              "            style=\"display:none;\">\n",
              "\n",
              "<svg xmlns=\"http://www.w3.org/2000/svg\" height=\"24px\"viewBox=\"0 0 24 24\"\n",
              "     width=\"24px\">\n",
              "    <g>\n",
              "        <path d=\"M19 3H5c-1.1 0-2 .9-2 2v14c0 1.1.9 2 2 2h14c1.1 0 2-.9 2-2V5c0-1.1-.9-2-2-2zM9 17H7v-7h2v7zm4 0h-2V7h2v10zm4 0h-2v-4h2v4z\"/>\n",
              "    </g>\n",
              "</svg>\n",
              "  </button>\n",
              "\n",
              "<style>\n",
              "  .colab-df-quickchart {\n",
              "      --bg-color: #E8F0FE;\n",
              "      --fill-color: #1967D2;\n",
              "      --hover-bg-color: #E2EBFA;\n",
              "      --hover-fill-color: #174EA6;\n",
              "      --disabled-fill-color: #AAA;\n",
              "      --disabled-bg-color: #DDD;\n",
              "  }\n",
              "\n",
              "  [theme=dark] .colab-df-quickchart {\n",
              "      --bg-color: #3B4455;\n",
              "      --fill-color: #D2E3FC;\n",
              "      --hover-bg-color: #434B5C;\n",
              "      --hover-fill-color: #FFFFFF;\n",
              "      --disabled-bg-color: #3B4455;\n",
              "      --disabled-fill-color: #666;\n",
              "  }\n",
              "\n",
              "  .colab-df-quickchart {\n",
              "    background-color: var(--bg-color);\n",
              "    border: none;\n",
              "    border-radius: 50%;\n",
              "    cursor: pointer;\n",
              "    display: none;\n",
              "    fill: var(--fill-color);\n",
              "    height: 32px;\n",
              "    padding: 0;\n",
              "    width: 32px;\n",
              "  }\n",
              "\n",
              "  .colab-df-quickchart:hover {\n",
              "    background-color: var(--hover-bg-color);\n",
              "    box-shadow: 0 1px 2px rgba(60, 64, 67, 0.3), 0 1px 3px 1px rgba(60, 64, 67, 0.15);\n",
              "    fill: var(--button-hover-fill-color);\n",
              "  }\n",
              "\n",
              "  .colab-df-quickchart-complete:disabled,\n",
              "  .colab-df-quickchart-complete:disabled:hover {\n",
              "    background-color: var(--disabled-bg-color);\n",
              "    fill: var(--disabled-fill-color);\n",
              "    box-shadow: none;\n",
              "  }\n",
              "\n",
              "  .colab-df-spinner {\n",
              "    border: 2px solid var(--fill-color);\n",
              "    border-color: transparent;\n",
              "    border-bottom-color: var(--fill-color);\n",
              "    animation:\n",
              "      spin 1s steps(1) infinite;\n",
              "  }\n",
              "\n",
              "  @keyframes spin {\n",
              "    0% {\n",
              "      border-color: transparent;\n",
              "      border-bottom-color: var(--fill-color);\n",
              "      border-left-color: var(--fill-color);\n",
              "    }\n",
              "    20% {\n",
              "      border-color: transparent;\n",
              "      border-left-color: var(--fill-color);\n",
              "      border-top-color: var(--fill-color);\n",
              "    }\n",
              "    30% {\n",
              "      border-color: transparent;\n",
              "      border-left-color: var(--fill-color);\n",
              "      border-top-color: var(--fill-color);\n",
              "      border-right-color: var(--fill-color);\n",
              "    }\n",
              "    40% {\n",
              "      border-color: transparent;\n",
              "      border-right-color: var(--fill-color);\n",
              "      border-top-color: var(--fill-color);\n",
              "    }\n",
              "    60% {\n",
              "      border-color: transparent;\n",
              "      border-right-color: var(--fill-color);\n",
              "    }\n",
              "    80% {\n",
              "      border-color: transparent;\n",
              "      border-right-color: var(--fill-color);\n",
              "      border-bottom-color: var(--fill-color);\n",
              "    }\n",
              "    90% {\n",
              "      border-color: transparent;\n",
              "      border-bottom-color: var(--fill-color);\n",
              "    }\n",
              "  }\n",
              "</style>\n",
              "\n",
              "  <script>\n",
              "    async function quickchart(key) {\n",
              "      const quickchartButtonEl =\n",
              "        document.querySelector('#' + key + ' button');\n",
              "      quickchartButtonEl.disabled = true;  // To prevent multiple clicks.\n",
              "      quickchartButtonEl.classList.add('colab-df-spinner');\n",
              "      try {\n",
              "        const charts = await google.colab.kernel.invokeFunction(\n",
              "            'suggestCharts', [key], {});\n",
              "      } catch (error) {\n",
              "        console.error('Error during call to suggestCharts:', error);\n",
              "      }\n",
              "      quickchartButtonEl.classList.remove('colab-df-spinner');\n",
              "      quickchartButtonEl.classList.add('colab-df-quickchart-complete');\n",
              "    }\n",
              "    (() => {\n",
              "      let quickchartButtonEl =\n",
              "        document.querySelector('#df-9ac05a34-81f8-4319-a70b-f6b24f806034 button');\n",
              "      quickchartButtonEl.style.display =\n",
              "        google.colab.kernel.accessAllowed ? 'block' : 'none';\n",
              "    })();\n",
              "  </script>\n",
              "</div>\n",
              "\n",
              "    </div>\n",
              "  </div>\n"
            ],
            "application/vnd.google.colaboratory.intrinsic+json": {
              "type": "dataframe",
              "summary": "{\n  \"name\": \"df_studentsGPASorted_homeroom\",\n  \"rows\": 2,\n  \"fields\": [\n    {\n      \"column\": \"studentID\",\n      \"properties\": {\n        \"dtype\": \"number\",\n        \"std\": 45407,\n        \"min\": 10959,\n        \"max\": 75175,\n        \"num_unique_values\": 2,\n        \"samples\": [\n          10959,\n          75175\n        ],\n        \"semantic_type\": \"\",\n        \"description\": \"\"\n      }\n    },\n    {\n      \"column\": \"homeRoom\",\n      \"properties\": {\n        \"dtype\": \"number\",\n        \"std\": 1,\n        \"min\": 311,\n        \"max\": 313,\n        \"num_unique_values\": 2,\n        \"samples\": [\n          313,\n          311\n        ],\n        \"semantic_type\": \"\",\n        \"description\": \"\"\n      }\n    },\n    {\n      \"column\": \"firstName_y\",\n      \"properties\": {\n        \"dtype\": \"string\",\n        \"num_unique_values\": 2,\n        \"samples\": [\n          \"Emma\",\n          \"Sophia\"\n        ],\n        \"semantic_type\": \"\",\n        \"description\": \"\"\n      }\n    },\n    {\n      \"column\": \"lastName_y\",\n      \"properties\": {\n        \"dtype\": \"string\",\n        \"num_unique_values\": 2,\n        \"samples\": [\n          \"Smith\",\n          \"Robinson\"\n        ],\n        \"semantic_type\": \"\",\n        \"description\": \"\"\n      }\n    },\n    {\n      \"column\": \"englishGrade\",\n      \"properties\": {\n        \"dtype\": \"number\",\n        \"std\": 4.949747468305833,\n        \"min\": 88.0,\n        \"max\": 95.0,\n        \"num_unique_values\": 2,\n        \"samples\": [\n          95.0,\n          88.0\n        ],\n        \"semantic_type\": \"\",\n        \"description\": \"\"\n      }\n    },\n    {\n      \"column\": \"mathGrade\",\n      \"properties\": {\n        \"dtype\": \"number\",\n        \"std\": 3.5355339059327378,\n        \"min\": 90.0,\n        \"max\": 95.0,\n        \"num_unique_values\": 2,\n        \"samples\": [\n          90.0,\n          95.0\n        ],\n        \"semantic_type\": \"\",\n        \"description\": \"\"\n      }\n    },\n    {\n      \"column\": \"GPA\",\n      \"properties\": {\n        \"dtype\": \"number\",\n        \"std\": 0.7071067811865476,\n        \"min\": 91.5,\n        \"max\": 92.5,\n        \"num_unique_values\": 2,\n        \"samples\": [\n          92.5,\n          91.5\n        ],\n        \"semantic_type\": \"\",\n        \"description\": \"\"\n      }\n    }\n  ]\n}"
            }
          },
          "metadata": {},
          "execution_count": 43
        }
      ],
      "source": [
        "# Given df_studentsGPASorted_homeroom, please find and print the students with the highest GPA in each homeroom using the .loc method.\n",
        "# (2 marks)\n",
        "df_studentsGPASorted_homeroom.loc[df_studentsGPASorted_homeroom.groupby('homeRoom')['GPA'].idxmax()]"
      ]
    },
    {
      "cell_type": "markdown",
      "id": "6360bc9f-ac32-4d0d-986d-f2cb21d422a9",
      "metadata": {
        "id": "6360bc9f-ac32-4d0d-986d-f2cb21d422a9"
      },
      "source": [
        "## Part 4: Using Matplotlib for Data Analytics\n",
        "### (14 marks)"
      ]
    },
    {
      "cell_type": "code",
      "execution_count": null,
      "id": "44538b76-33d8-466e-8cc1-0936c22b541c",
      "metadata": {
        "id": "44538b76-33d8-466e-8cc1-0936c22b541c"
      },
      "outputs": [],
      "source": [
        "# In the space below, please import the matplotlib library\n",
        "# (1 mark)\n",
        "import matplotlib.pyplot as plt"
      ]
    },
    {
      "cell_type": "code",
      "execution_count": null,
      "id": "995a219d-fa27-4948-a51d-88aad7a24731",
      "metadata": {
        "id": "995a219d-fa27-4948-a51d-88aad7a24731",
        "outputId": "75c771ef-4c0c-4292-a288-bf22c5dcbfa6",
        "colab": {
          "base_uri": "https://localhost:8080/",
          "height": 564
        }
      },
      "outputs": [
        {
          "output_type": "display_data",
          "data": {
            "text/plain": [
              "<Figure size 1000x600 with 1 Axes>"
            ],
            "image/png": "[encoded data removed]"
          },
          "metadata": {}
        }
      ],
      "source": [
        "# Let's use matplotlib to display a histogram of the grades distribution\n",
        "# Histograms are useful for seeing the distribution of the students grades\n",
        "\n",
        "plt.figure(figsize=(10, 6))\n",
        "plt.hist(df_studentGrades['englishGrade'], bins=10, alpha=0.7, label='English Grades', color='blue')\n",
        "\n",
        "# Step 1: Use the line above as reference to create a histogram for the math grades\n",
        "# (1 mark)\n",
        "plt.hist(df_studentGrades['mathGrade'], bins=10, alpha=0.7, label='Math Grades', color='green')\n",
        "\n",
        "# Step 2: Ensure that your plot is descriptive, so use labels (x and y axis), a title, and a legend.\n",
        "# Hint: Use the matplotlib .legend(loc='<location>') to add and place the legend.\n",
        "# You can use 'upper left', 'upper right', 'lower left', and 'lower right' to specify the location.\n",
        "# (4 marks)\n",
        "plt.xlabel('Grade')\n",
        "plt.ylabel('Frequency')\n",
        "plt.title('Grade Distribution')\n",
        "plt.legend(loc='upper right')\n",
        "plt.grid(True)\n",
        "\n",
        "# Step 3: Use the .savefig('<image_title>'.png) to output an image file of the histogram.\n",
        "# Please be sure to use a descriptive title!\n",
        "# (1 mark)\n",
        "plt.savefig('grade_distribution.png')\n",
        "\n",
        "plt.show()"
      ]
    },
    {
      "cell_type": "code",
      "execution_count": null,
      "id": "631d4d69-dd89-4a31-a857-0f4eb1230bbc",
      "metadata": {
        "id": "631d4d69-dd89-4a31-a857-0f4eb1230bbc",
        "outputId": "189b988a-f562-4320-c7b6-46496803eb32",
        "colab": {
          "base_uri": "https://localhost:8080/",
          "height": 564
        }
      },
      "outputs": [
        {
          "output_type": "display_data",
          "data": {
            "text/plain": [
              "<Figure size 1000x600 with 1 Axes>"
            ],
            "image/png": "[encoded data removed]"
          },
          "metadata": {}
        }
      ],
      "source": [
        "# Let's also use matplotlib to display a scatter plot of English vs. Math grades\n",
        "# Scatter plots are useful for seeing the relationship between two variables\n",
        "plt.figure(figsize=(10, 6))\n",
        "\n",
        "# Step 1: Use .scatter(x_data, y_data) to create a scatter plot using the English grades on the x-axis, and Math grades on the y-axis\n",
        "# (2 mark)\n",
        "plt.scatter(df_studentGrades['englishGrade'], df_studentGrades['mathGrade'], alpha=0.7, color='blue')\n",
        "\n",
        "# Step 1: Properly label the x and y axes as well as the title of your plot.\n",
        "# (3 marks)\n",
        "plt.xlabel('English Grades')\n",
        "plt.ylabel('Math Grades')\n",
        "plt.title('English vs. Math Grades')\n",
        "plt.grid(True)\n",
        "\n",
        "# Step 2: Output an image file for the scatter plot with a descriptive file name\n",
        "# (1 mark)\n",
        "plt.savefig('english_vs_math_grades.png')\n",
        "\n",
        "plt.show()"
      ]
    },
    {
      "cell_type": "code",
      "execution_count": null,
      "id": "B69uvG5uioH0",
      "metadata": {
        "id": "B69uvG5uioH0"
      },
      "outputs": [],
      "source": [
        "# From the scatter plot, is there a relationship between the Math and English grades?\n",
        "# (1 mark)\n",
        "# Yes, there is a positive correlation between the Math and English grades."
      ]
    }
  ],
  "metadata": {
    "colab": {
      "provenance": [],
      "include_colab_link": true
    },
    "kernelspec": {
      "display_name": "Python 3 (ipykernel)",
      "language": "python",
      "name": "python3"
    },
    "language_info": {
      "codemirror_mode": {
        "name": "ipython",
        "version": 3
      },
      "file_extension": ".py",
      "mimetype": "text/x-python",
      "name": "python",
      "nbconvert_exporter": "python",
      "pygments_lexer": "ipython3",
      "version": "3.10.9"
    }
  },
  "nbformat": 4,
  "nbformat_minor": 5
}